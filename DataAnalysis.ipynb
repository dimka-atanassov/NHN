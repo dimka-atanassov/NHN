{
 "cells": [
  {
   "cell_type": "code",
   "execution_count": 5,
   "metadata": {
    "collapsed": false
   },
   "outputs": [
    {
     "name": "stderr",
     "output_type": "stream",
     "text": [
      "/Library/Python/2.7/site-packages/ipykernel/__main__.py:20: SettingWithCopyWarning: \n",
      "A value is trying to be set on a copy of a slice from a DataFrame.\n",
      "Try using .loc[row_indexer,col_indexer] = value instead\n",
      "\n",
      "See the caveats in the documentation: http://pandas.pydata.org/pandas-docs/stable/indexing.html#indexing-view-versus-copy\n",
      "/Library/Python/2.7/site-packages/ipykernel/__main__.py:25: SettingWithCopyWarning: \n",
      "A value is trying to be set on a copy of a slice from a DataFrame.\n",
      "Try using .loc[row_indexer,col_indexer] = value instead\n",
      "\n",
      "See the caveats in the documentation: http://pandas.pydata.org/pandas-docs/stable/indexing.html#indexing-view-versus-copy\n",
      "/Library/Python/2.7/site-packages/ipykernel/__main__.py:26: SettingWithCopyWarning: \n",
      "A value is trying to be set on a copy of a slice from a DataFrame.\n",
      "Try using .loc[row_indexer,col_indexer] = value instead\n",
      "\n",
      "See the caveats in the documentation: http://pandas.pydata.org/pandas-docs/stable/indexing.html#indexing-view-versus-copy\n"
     ]
    }
   ],
   "source": [
    "###The Hot Neighbourhood Predictor, code written in python 2.7 in jupyter\n",
    "import numpy as np\n",
    "import pandas as pd\n",
    "from datetime import datetime\n",
    "import matplotlib.pyplot as plt\n",
    "\n",
    "#read the Crime Data or SF\n",
    "CrimeData = pd.read_csv(\"Map_Crime_Incidents.csv\")\n",
    "#Read the price data\n",
    "PriceDatabyZipcode = pd.read_csv(\"Zip_MedianValuePerSqft_AllHomes.csv\")\n",
    "\n",
    "#Reorganize the price data\n",
    "#Reshape so that years are values and not rows\n",
    "SFPriceDatabyZipcode2 = pd.melt(PriceDatabyZipcode, id_vars=[\"RegionID\", \"RegionName\", \"City\",\n",
    "                                             \"State\", \"Metro\", \"CountyName\", \"SizeRank\"], \n",
    "                  var_name=\"Date\", value_name=\"Value\")\n",
    "#Limit to SF only\n",
    "SFPriceData = SFPriceDatabyZipcode2[SFPriceDatabyZipcode2['City']=='San Francisco']\n",
    "#Make a datetume object out of Date\n",
    "SFPriceData['Date2'] = pd.to_datetime(SFPriceData['Date'],infer_datetime_format=True)\n",
    "\n",
    "#drop some columns\n",
    "#RegionName is zipcode\n",
    "SFPriceData2 = SFPriceData[['Date2', 'Metro', 'CountyName', 'Value', 'RegionName']]\n",
    "SFPriceData2['Year'] = SFPriceData2['Date2'].apply(lambda x: x.year) \n",
    "SFPriceData2['Month'] = SFPriceData2['Date2'].apply(lambda x: x.month)\n",
    "\n",
    "\n",
    "#calculate difference in price between jan and jan next year for each year in data\n",
    " \n",
    "#take only month of January\n",
    "SFPriceData2Yearly = SFPriceData2[SFPriceData2['Month']==1]\n",
    "\n",
    "#compute differnce between each two consequitive years\n",
    "SFPriceData2YearlyWork = SFPriceData2Yearly[['RegionName', 'Year', 'Value']]\n",
    "\n",
    "#drop years prior to 2004\n",
    "SFPriceData2YearlyWork= SFPriceData2YearlyWork[SFPriceData2YearlyWork['Year'] >= 2004]\n",
    "SFPriceData2YearlyPivot = SFPriceData2YearlyWork.pivot(index='RegionName', columns='Year', values='Value')\n",
    "\n",
    "for year in SFPriceData2YearlyPivot.columns:\n",
    "    if year -1 in SFPriceData2YearlyPivot.columns:\n",
    "        SFPriceData2YearlyPivot[str(year)+'-'+str(year-1)] = SFPriceData2YearlyPivot[year] - SFPriceData2YearlyPivot[year-1]\n",
    "        \n",
    "SFPriceData2YearlyPivot['Zipcode'] = SFPriceData2YearlyPivot.index\n",
    "ByZipcodeYearlyBack = pd.melt(SFPriceData2YearlyPivot, id_vars=[\"Zipcode\"], \n",
    "                  var_name=\"Year\", value_name=\"Value\")\n",
    "\n",
    "for year in range(2004, 2017):\n",
    "    ByZipcodeYearlyBack = ByZipcodeYearlyBack[ByZipcodeYearlyBack['Year']!=year]\n",
    "\n",
    "ByZipcodeYearlyBack['Year']=ByZipcodeYearlyBack['Year'].apply(lambda x: int(str.split(x, '-')[0]))\n",
    "\n",
    "#compute average change by year\n",
    "AverageChangePerYEarZip = ByZipcodeYearlyBack.groupby(['Year'])['Value'].mean()"
   ]
  },
  {
   "cell_type": "code",
   "execution_count": null,
   "metadata": {
    "collapsed": true
   },
   "outputs": [],
   "source": [
    "#Geocoder\n",
    "#get zipcodes from coordinates\n",
    "import geocoder\n",
    "import ast\n",
    "#careful- this wastes requests!\n",
    "#comment out to rum\n",
    "google_key = 'my_key'\n",
    "\n",
    "X=np.linspace(-122.513642064,-122.389940,50)\n",
    "Y=np.linspace(37.7078790224,37.806995736979587,50)\n",
    "d={}\n",
    "for x in X:\n",
    "    for y in Y:\n",
    "        d[(y,x)]= geocoder.google([y,x],method='reverse',key=google_key).postal\n"
   ]
  },
  {
   "cell_type": "code",
   "execution_count": null,
   "metadata": {
    "collapsed": true
   },
   "outputs": [],
   "source": [
    "#save to a csv file\n",
    "with open('zippzopp.csv', 'wb') as csv_file:\n",
    "    writer = csv.writer(csv_file)\n",
    "    for key, value in d.items():\n",
    "        writer.writerow([key, value])"
   ]
  },
  {
   "cell_type": "code",
   "execution_count": 6,
   "metadata": {
    "collapsed": true
   },
   "outputs": [],
   "source": [
    "import ast\n",
    "\n",
    "LonLatToZipcode = pd.read_csv(\"zippzopp.csv\")\n",
    "LonLatToZipcode['location'] = LonLatToZipcode['location'].apply(lambda x: ast.literal_eval(x))\n",
    "d = dict(zip(LonLatToZipcode['location'].values, LonLatToZipcode['zipcode'].values))\n",
    "def zipCodifying(row):\n",
    "    x=row['X']\n",
    "    y=row['Y']\n",
    "    upperX = -122.389940\n",
    "    lowerX = -122.513642064\n",
    "    upperY = 37.806995736979587 #37.818259\n",
    "    lowerY = 37.7078790224\n",
    "    cells = 50\n",
    "    XX=np.linspace(lowerX, upperX, cells)\n",
    "    YY=np.linspace(lowerY, upperY, cells)\n",
    "    \n",
    "    delx=(upperX-lowerX)/50\n",
    "    dely=(upperY-lowerY)/50\n",
    "    inx=int(((x-lowerX)-((x-lowerX)%delx))/delx)\n",
    "    iny=int(((y-lowerY)-((y-lowerY)%dely))/dely)\n",
    "    \n",
    "    if iny > 49:\n",
    "        iny = 49\n",
    "    if inx > 49:\n",
    "        inx = 49\n",
    "\n",
    "    if inx>=0 and inx<=49 and iny>=0 and iny<=49:\n",
    "        if inx < 49 and (abs(x-XX[inx]) > abs(x-XX[inx+1])):\n",
    "            inx = inx+1\n",
    "        if iny < 49 and (abs(y-YY[iny]) > abs(y-YY[iny+1])):\n",
    "            iny = iny+1\n",
    "        newx=XX[inx]\n",
    "        newy=YY[iny]\n",
    "        #find the closest zipcode to the left that matches\n",
    "        while np.isnan(d[(newy, newx)]) and inx >0:\n",
    "            inx = inx-1\n",
    "            newx = XX[inx]\n",
    "        #move downward to the closest zipcode that has a non nan value\n",
    "        while np.isnan(d[(newy, newx)]) and iny >0:\n",
    "            iny = iny-1\n",
    "            newy = YY[iny]\n",
    "        zipcode=d[(newy,newx)] \n",
    "    else:\n",
    "        zipcode=0\n",
    "        \n",
    "    return zipcode\n",
    "    \n",
    "CrimeData['zipcode']=CrimeData.apply(zipCodifying,axis=1)\n",
    "CrimeData = CrimeData[CrimeData['Y'] < 90]"
   ]
  },
  {
   "cell_type": "code",
   "execution_count": 7,
   "metadata": {
    "collapsed": true
   },
   "outputs": [],
   "source": [
    "#organize Crime Data a bit more\n",
    "ListofCrimes=CrimeData['Category'].value_counts().index.values\n",
    "CrimeData['Year'] = CrimeData['Date'].apply(lambda x: int(str.split(str.split(x,'/')[2],' ')[0]))\n"
   ]
  },
  {
   "cell_type": "code",
   "execution_count": 8,
   "metadata": {
    "collapsed": false
   },
   "outputs": [
    {
     "name": "stderr",
     "output_type": "stream",
     "text": [
      "/Library/Python/2.7/site-packages/ipykernel/__main__.py:3: SettingWithCopyWarning: \n",
      "A value is trying to be set on a copy of a slice from a DataFrame.\n",
      "Try using .loc[row_indexer,col_indexer] = value instead\n",
      "\n",
      "See the caveats in the documentation: http://pandas.pydata.org/pandas-docs/stable/indexing.html#indexing-view-versus-copy\n",
      "  app.launch_new_instance()\n"
     ]
    }
   ],
   "source": [
    "#get number of crimes of each type per year per zipcode\n",
    "CrimeData_sub = CrimeData[['Descript', 'Year', 'zipcode']]\n",
    "CrimeData_sub['Count'] = np.ones(CrimeData_sub.shape[0])\n",
    "TotalPerZipcodePerYear = CrimeData_sub.groupby(['Year', 'zipcode'], as_index = False).agg({'Count': np.sum})\n",
    "TotalPerYear = TotalPerZipcodePerYear.groupby(['Year'], as_index = False).agg({'Count': np.sum})\n",
    "\n",
    "ZipNames=ByZipcodeYearlyBack['Zipcode'].value_counts().index.values\n"
   ]
  },
  {
   "cell_type": "code",
   "execution_count": 9,
   "metadata": {
    "collapsed": true
   },
   "outputs": [],
   "source": [
    "# beatMarket Returns 1 if the improvement in mean value of houses in the district between January 1st of (year-1) and \n",
    "#January 1st of year is over the mean improvement across districts\n",
    "def beatMarket(zipcode,year):\n",
    "    yearlyMean= ByZipcodeYearlyBack[ByZipcodeYearlyBack['Year']==year]['Value'].mean()\n",
    "    selectZipYear = (ByZipcodeYearlyBack['Zipcode']==zipcode) & (ByZipcodeYearlyBack['Year']==year)\n",
    "    ZipMean = ByZipcodeYearlyBack[selectZipYear]['Value'].values[0]\n",
    "    if ZipMean > yearlyMean:\n",
    "        return 1\n",
    "    else:\n",
    "        return 0 "
   ]
  },
  {
   "cell_type": "code",
   "execution_count": 10,
   "metadata": {
    "collapsed": false
   },
   "outputs": [
    {
     "name": "stderr",
     "output_type": "stream",
     "text": [
      "/Library/Python/2.7/site-packages/ipykernel/__main__.py:3: SettingWithCopyWarning: \n",
      "A value is trying to be set on a copy of a slice from a DataFrame.\n",
      "Try using .loc[row_indexer,col_indexer] = value instead\n",
      "\n",
      "See the caveats in the documentation: http://pandas.pydata.org/pandas-docs/stable/indexing.html#indexing-view-versus-copy\n",
      "  app.launch_new_instance()\n"
     ]
    }
   ],
   "source": [
    "#get everything into one Dataframe\n",
    "CrimeDataSmall = CrimeData[['Category', 'zipcode', 'Date']]\n",
    "CrimeDataSmall['Year'] = CrimeDataSmall['Date'].apply(lambda x: int(str.split(str.split(x,'/')[2],' ')[0]))\n",
    "frame_data=[]\n",
    "target = []\n",
    "#business_data = []\n",
    "m=0\n",
    "numYears = 12 #there is data from 12 years\n",
    "for i in ZipNames:\n",
    "    #BusinessZip = BusinessChangePerYearZip[BusinessChangePerYearZip['Zipcode']== i]\n",
    "    for j in range(numYears):\n",
    "        target.append(beatMarket(i,2005+j))\n",
    "        Row_of_data=[i,j+2003]\n",
    "        All_in_Year=CrimeDataSmall[CrimeDataSmall['Year']==j+2003]['Category'].value_counts()\n",
    "        select_condition = (CrimeDataSmall['zipcode']==i) &(CrimeDataSmall['Year']==j+2003)\n",
    "        Crime_Counts_in_Year= CrimeDataSmall[select_condition]['Category'].value_counts()\n",
    "        percentofallinyear=sum(Crime_Counts_in_Year)*(1.0)/len(CrimeDataSmall[CrimeDataSmall['Year']==j+2003])\n",
    "        Row_of_data.append(percentofallinyear)\n",
    "        for k in ListofCrimes:\n",
    "            if k in Crime_Counts_in_Year.index:\n",
    "                Row_of_data.append((Crime_Counts_in_Year[k]*(1.0)/sum(Crime_Counts_in_Year)))\n",
    "            else: #if there was no crime of this type in that year and district append 0\n",
    "                Row_of_data.append(0)\n",
    "        #Row_of_data.append(BusinessChange['Change'].values[0])  \n",
    "        #business_data.append(BusinessChange['Change'].values[0])\n",
    "        frame_data.append(Row_of_data)\n",
    "    m=m+1\n",
    "CombinedData=pd.DataFrame(columns=['zipcode', 'year','percent of all in year'] +list(ListofCrimes))\n",
    "for i in range(len(frame_data)):\n",
    "        CombinedData.loc[i]=(frame_data[i])\n",
    "        "
   ]
  },
  {
   "cell_type": "code",
   "execution_count": 14,
   "metadata": {
    "collapsed": true
   },
   "outputs": [],
   "source": [
    "#Remove means for same district across years\n",
    "meansData= CombinedData.groupby(['zipcode']).mean()\n",
    "def removeMean(row):\n",
    "    for i in range(len(row)-2):\n",
    "        mean=meansData[meansData.index==row[0]].values[0][i+1]\n",
    "        row[i+2]=row[i+2]-mean\n",
    "    return row\n",
    "\n",
    "OriginalCombinedData = CombinedData.copy()\n",
    "Newie=CombinedData.apply(removeMean,axis=1)\n",
    "\n",
    "#dummies\n",
    "m=0\n",
    "datas=[]\n",
    "numYears = 12 #there is data from 12 years\n",
    "for i in ZipNames:\n",
    "    #BusinessZip = BusinessChangePerYearZip[BusinessChangePerYearZip['Zipcode']== i]\n",
    "    for j in range(numYears):\n",
    "        Row=[0]*m+[1]+[0]*(len(ZipNames)-m-1)\n",
    "        #BusinessChange = BusinessZip[BusinessZip['Year']==j+2003]\n",
    "        #Row.append(BusinessChange['Change'].values[0])\n",
    "        #Row.append(BusinessChange['Open'].values[0])\n",
    "        #Row.append(BusinessChange['Closed'].values[0])\n",
    "        datas.append(Row)\n",
    "    m=m+1\n",
    "dummies=pd.DataFrame(columns=list(ZipNames))\n",
    "for i in range(len(datas)):\n",
    "        dummies.loc[i]=(datas[i])\n",
    "        \n",
    "#Change in businesses\n",
    "\n",
    "#for i in Zi\n",
    "        \n",
    "#Create train data\n",
    "train=pd.concat([Newie.ix[:,2:],dummies],axis=1)\n"
   ]
  },
  {
   "cell_type": "code",
   "execution_count": 12,
   "metadata": {
    "collapsed": false
   },
   "outputs": [
    {
     "data": {
      "text/html": [
       "<div>\n",
       "<table border=\"1\" class=\"dataframe\">\n",
       "  <thead>\n",
       "    <tr style=\"text-align: right;\">\n",
       "      <th></th>\n",
       "      <th>zipcode</th>\n",
       "      <th>year</th>\n",
       "      <th>percent of all in year</th>\n",
       "      <th>LARCENY/THEFT</th>\n",
       "      <th>OTHER OFFENSES</th>\n",
       "      <th>NON-CRIMINAL</th>\n",
       "      <th>ASSAULT</th>\n",
       "      <th>VEHICLE THEFT</th>\n",
       "      <th>DRUG/NARCOTIC</th>\n",
       "      <th>VANDALISM</th>\n",
       "      <th>...</th>\n",
       "      <th>LOITERING</th>\n",
       "      <th>SUICIDE</th>\n",
       "      <th>FAMILY OFFENSES</th>\n",
       "      <th>BAD CHECKS</th>\n",
       "      <th>BRIBERY</th>\n",
       "      <th>EXTORTION</th>\n",
       "      <th>SEX OFFENSES, NON FORCIBLE</th>\n",
       "      <th>GAMBLING</th>\n",
       "      <th>PORNOGRAPHY/OBSCENE MAT</th>\n",
       "      <th>TREA</th>\n",
       "    </tr>\n",
       "  </thead>\n",
       "  <tbody>\n",
       "    <tr>\n",
       "      <th>0</th>\n",
       "      <td>94158.0</td>\n",
       "      <td>2003.0</td>\n",
       "      <td>0.002000</td>\n",
       "      <td>-0.032292</td>\n",
       "      <td>0.007884</td>\n",
       "      <td>-0.018146</td>\n",
       "      <td>-0.002301</td>\n",
       "      <td>0.099177</td>\n",
       "      <td>-0.003778</td>\n",
       "      <td>-0.010246</td>\n",
       "      <td>...</td>\n",
       "      <td>0.000944</td>\n",
       "      <td>-0.00042</td>\n",
       "      <td>-0.000312</td>\n",
       "      <td>-0.000477</td>\n",
       "      <td>-0.000298</td>\n",
       "      <td>0.0</td>\n",
       "      <td>0.0</td>\n",
       "      <td>0.0</td>\n",
       "      <td>0.0</td>\n",
       "      <td>0.0</td>\n",
       "    </tr>\n",
       "    <tr>\n",
       "      <th>1</th>\n",
       "      <td>94158.0</td>\n",
       "      <td>2004.0</td>\n",
       "      <td>0.000404</td>\n",
       "      <td>-0.095535</td>\n",
       "      <td>0.024904</td>\n",
       "      <td>-0.001810</td>\n",
       "      <td>-0.003254</td>\n",
       "      <td>0.127356</td>\n",
       "      <td>0.000886</td>\n",
       "      <td>-0.006926</td>\n",
       "      <td>...</td>\n",
       "      <td>-0.000301</td>\n",
       "      <td>-0.00042</td>\n",
       "      <td>-0.000312</td>\n",
       "      <td>-0.000477</td>\n",
       "      <td>-0.000298</td>\n",
       "      <td>0.0</td>\n",
       "      <td>0.0</td>\n",
       "      <td>0.0</td>\n",
       "      <td>0.0</td>\n",
       "      <td>0.0</td>\n",
       "    </tr>\n",
       "    <tr>\n",
       "      <th>2</th>\n",
       "      <td>94158.0</td>\n",
       "      <td>2005.0</td>\n",
       "      <td>-0.000246</td>\n",
       "      <td>-0.059125</td>\n",
       "      <td>-0.007777</td>\n",
       "      <td>-0.018380</td>\n",
       "      <td>-0.019476</td>\n",
       "      <td>0.087017</td>\n",
       "      <td>0.014910</td>\n",
       "      <td>0.013186</td>\n",
       "      <td>...</td>\n",
       "      <td>-0.000301</td>\n",
       "      <td>-0.00042</td>\n",
       "      <td>-0.000312</td>\n",
       "      <td>-0.000477</td>\n",
       "      <td>-0.000298</td>\n",
       "      <td>0.0</td>\n",
       "      <td>0.0</td>\n",
       "      <td>0.0</td>\n",
       "      <td>0.0</td>\n",
       "      <td>0.0</td>\n",
       "    </tr>\n",
       "    <tr>\n",
       "      <th>3</th>\n",
       "      <td>94158.0</td>\n",
       "      <td>2006.0</td>\n",
       "      <td>-0.000896</td>\n",
       "      <td>-0.046731</td>\n",
       "      <td>0.007499</td>\n",
       "      <td>0.013703</td>\n",
       "      <td>0.013725</td>\n",
       "      <td>-0.002649</td>\n",
       "      <td>-0.004145</td>\n",
       "      <td>-0.020884</td>\n",
       "      <td>...</td>\n",
       "      <td>-0.000301</td>\n",
       "      <td>-0.00042</td>\n",
       "      <td>-0.000312</td>\n",
       "      <td>-0.000477</td>\n",
       "      <td>-0.000298</td>\n",
       "      <td>0.0</td>\n",
       "      <td>0.0</td>\n",
       "      <td>0.0</td>\n",
       "      <td>0.0</td>\n",
       "      <td>0.0</td>\n",
       "    </tr>\n",
       "    <tr>\n",
       "      <th>4</th>\n",
       "      <td>94158.0</td>\n",
       "      <td>2007.0</td>\n",
       "      <td>-0.000318</td>\n",
       "      <td>-0.001424</td>\n",
       "      <td>0.001351</td>\n",
       "      <td>-0.000847</td>\n",
       "      <td>0.006643</td>\n",
       "      <td>-0.047459</td>\n",
       "      <td>0.004975</td>\n",
       "      <td>0.013037</td>\n",
       "      <td>...</td>\n",
       "      <td>0.002068</td>\n",
       "      <td>-0.00042</td>\n",
       "      <td>-0.000312</td>\n",
       "      <td>-0.000477</td>\n",
       "      <td>-0.000298</td>\n",
       "      <td>0.0</td>\n",
       "      <td>0.0</td>\n",
       "      <td>0.0</td>\n",
       "      <td>0.0</td>\n",
       "      <td>0.0</td>\n",
       "    </tr>\n",
       "  </tbody>\n",
       "</table>\n",
       "<p>5 rows × 42 columns</p>\n",
       "</div>"
      ],
      "text/plain": [
       "   zipcode    year  percent of all in year  LARCENY/THEFT  OTHER OFFENSES  \\\n",
       "0  94158.0  2003.0                0.002000      -0.032292        0.007884   \n",
       "1  94158.0  2004.0                0.000404      -0.095535        0.024904   \n",
       "2  94158.0  2005.0               -0.000246      -0.059125       -0.007777   \n",
       "3  94158.0  2006.0               -0.000896      -0.046731        0.007499   \n",
       "4  94158.0  2007.0               -0.000318      -0.001424        0.001351   \n",
       "\n",
       "   NON-CRIMINAL   ASSAULT  VEHICLE THEFT  DRUG/NARCOTIC  VANDALISM  ...   \\\n",
       "0     -0.018146 -0.002301       0.099177      -0.003778  -0.010246  ...    \n",
       "1     -0.001810 -0.003254       0.127356       0.000886  -0.006926  ...    \n",
       "2     -0.018380 -0.019476       0.087017       0.014910   0.013186  ...    \n",
       "3      0.013703  0.013725      -0.002649      -0.004145  -0.020884  ...    \n",
       "4     -0.000847  0.006643      -0.047459       0.004975   0.013037  ...    \n",
       "\n",
       "   LOITERING  SUICIDE  FAMILY OFFENSES  BAD CHECKS   BRIBERY  EXTORTION  \\\n",
       "0   0.000944 -0.00042        -0.000312   -0.000477 -0.000298        0.0   \n",
       "1  -0.000301 -0.00042        -0.000312   -0.000477 -0.000298        0.0   \n",
       "2  -0.000301 -0.00042        -0.000312   -0.000477 -0.000298        0.0   \n",
       "3  -0.000301 -0.00042        -0.000312   -0.000477 -0.000298        0.0   \n",
       "4   0.002068 -0.00042        -0.000312   -0.000477 -0.000298        0.0   \n",
       "\n",
       "   SEX OFFENSES, NON FORCIBLE  GAMBLING  PORNOGRAPHY/OBSCENE MAT  TREA  \n",
       "0                         0.0       0.0                      0.0   0.0  \n",
       "1                         0.0       0.0                      0.0   0.0  \n",
       "2                         0.0       0.0                      0.0   0.0  \n",
       "3                         0.0       0.0                      0.0   0.0  \n",
       "4                         0.0       0.0                      0.0   0.0  \n",
       "\n",
       "[5 rows x 42 columns]"
      ]
     },
     "execution_count": 12,
     "metadata": {},
     "output_type": "execute_result"
    }
   ],
   "source": [
    "Newie.head()"
   ]
  },
  {
   "cell_type": "code",
   "execution_count": 15,
   "metadata": {
    "collapsed": false
   },
   "outputs": [
    {
     "name": "stdout",
     "output_type": "stream",
     "text": [
      "0.656200846945\n",
      "21.0\n"
     ]
    },
    {
     "data": {
      "image/png": "[encoded data removed]",
      "text/plain": [
       "<matplotlib.figure.Figure at 0x1214d4910>"
      ]
     },
     "metadata": {},
     "output_type": "display_data"
    }
   ],
   "source": [
    "%matplotlib inline\n",
    "#ZipNames=ByZipcodeYearlyBack['Zipcode'].value_counts().index.values\n",
    "\n",
    "#Logistic Regression\n",
    "#Check mean cross validation scores for various choices of feature selections for logistic regression\n",
    "from sklearn import feature_selection\n",
    "from sklearn.cross_validation import cross_val_score, KFold\n",
    "from sklearn.pipeline import Pipeline\n",
    "from sklearn.preprocessing import *\n",
    "from sklearn.linear_model import *\n",
    "import pylab\n",
    "\n",
    "#x is [1,.....,len(train.columns)]\n",
    "x =  np.linspace(1,len(train.columns),len(train.columns))\n",
    "y=[]\n",
    "clf=Pipeline([('scaler', StandardScaler()), ('logistic', LogisticRegression())])\n",
    "#select a+1 features every time and check prediction\n",
    "for a in range(len(train.columns)):\n",
    "    #select best a+1 features\n",
    "    fs=feature_selection.SelectKBest(feature_selection.f_classif,k=a+1)\n",
    "    #fit the data\n",
    "    X_train=fs.fit_transform(train,target)\n",
    "    #compute cross validation 5 times\n",
    "    cv=KFold(len(train),5,shuffle=True, random_state=20)\n",
    "    scores=cross_val_score(clf,X_train,target,cv=cv) #cross validation scores\n",
    "    y.append(np.mean(scores))\n",
    "pylab.plot(x,y)\n",
    "print(max(y))\n",
    "print x[np.array(y).argmax(axis=0)]"
   ]
  },
  {
   "cell_type": "code",
   "execution_count": 22,
   "metadata": {
    "collapsed": false
   },
   "outputs": [
    {
     "data": {
      "image/png": "[encoded data removed]",
      "text/plain": [
       "<matplotlib.figure.Figure at 0x115efd590>"
      ]
     },
     "metadata": {},
     "output_type": "display_data"
    }
   ],
   "source": [
    "y_pos = np.arange(len(LCoefficients['Feature'].values))\n",
    "plt.barh(y_pos, LCoefficients['L_Coef'].values)\n",
    "plt.yticks(y_pos, LCoefficients['Feature'].values)\n",
    "plt.savefig('LCoefficients.png', bbox_inches='tight')"
   ]
  },
  {
   "cell_type": "code",
   "execution_count": 16,
   "metadata": {
    "collapsed": false
   },
   "outputs": [
    {
     "name": "stderr",
     "output_type": "stream",
     "text": [
      "/Library/Python/2.7/site-packages/ipykernel/__main__.py:9: FutureWarning: sort(columns=....) is deprecated, use sort_values(by=.....)\n",
      "/Library/Python/2.7/site-packages/ipykernel/__main__.py:16: FutureWarning: sort(columns=....) is deprecated, use sort_values(by=.....)\n"
     ]
    }
   ],
   "source": [
    "fs=feature_selection.SelectKBest(feature_selection.f_classif,k=21) #21 features gives best result\n",
    "X_train = fs.fit_transform(train,target)\n",
    "scaler=StandardScaler().fit(X_train)\n",
    "X=scaler.transform(X_train)\n",
    "l=LogisticRegression().fit(X, target)\n",
    "\n",
    "#mathch the F score to the crime\n",
    "DataCoefficients = pd.DataFrame({'Variables': train.columns,'F_Scores': fs.scores_}) \n",
    "DataCoefficients = DataCoefficients.sort('F_Scores', ascending=[0]) #sort by F-Score\n",
    "\n",
    "#mathch the L coefficient to the crime\n",
    "ChosenFeatures=pd.Series(train.columns)[pd.Series(train.columns).\n",
    "                                        apply(lambda x: x in set(DataCoefficients['Variables'].values[:21]))]\n",
    "LCoefficients = pd.DataFrame({'Feature':ChosenFeatures, 'L_Coef':l.coef_[0]})\n",
    "LCoefficients['LAbsValue'] = LCoefficients['L_Coef'].apply(lambda x: abs(x))\n",
    "LCoefficients= LCoefficients.sort('LAbsValue', ascending = [0]) #sort\n"
   ]
  },
  {
   "cell_type": "code",
   "execution_count": 18,
   "metadata": {
    "collapsed": false
   },
   "outputs": [
    {
     "data": {
      "text/plain": [
       "2014.0    24\n",
       "2013.0    24\n",
       "2012.0    24\n",
       "2011.0    24\n",
       "2010.0    24\n",
       "2009.0    24\n",
       "2008.0    24\n",
       "2007.0    24\n",
       "2006.0    24\n",
       "2005.0    24\n",
       "2004.0    24\n",
       "2003.0    24\n",
       "Name: year, dtype: int64"
      ]
     },
     "execution_count": 18,
     "metadata": {},
     "output_type": "execute_result"
    }
   ],
   "source": [
    "Newie['year'].value_counts()"
   ]
  },
  {
   "cell_type": "code",
   "execution_count": 20,
   "metadata": {
    "collapsed": false
   },
   "outputs": [
    {
     "name": "stderr",
     "output_type": "stream",
     "text": [
      "/Library/Python/2.7/site-packages/ipykernel/__main__.py:4: SettingWithCopyWarning: \n",
      "A value is trying to be set on a copy of a slice from a DataFrame.\n",
      "Try using .loc[row_indexer,col_indexer] = value instead\n",
      "\n",
      "See the caveats in the documentation: http://pandas.pydata.org/pandas-docs/stable/indexing.html#indexing-view-versus-copy\n"
     ]
    }
   ],
   "source": [
    "#get prediction for 2016\n",
    "#get everything into one Dataframe\n",
    "CrimeDataSmall = CrimeData[['Category', 'zipcode', 'Date']]\n",
    "CrimeDataSmall['Year'] = CrimeDataSmall['Date'].apply(lambda x: int(str.split(str.split(x,'/')[2],' ')[0]))\n",
    "frame_data=[]\n",
    "target = []\n",
    "#business_data = []\n",
    "for i in ZipNames:\n",
    "    #BusinessZip = BusinessChangePerYearZip[BusinessChangePerYearZip['Zipcode']== i]\n",
    "    #for j in range(numYears):\n",
    "    #    target.append(beatMarket(i,2005+j))\n",
    "        Row_of_data=[i,2015]\n",
    "        All_in_Year=CrimeDataSmall[CrimeDataSmall['Year']==2015]['Category'].value_counts()\n",
    "        select_condition = (CrimeDataSmall['zipcode']==i) &(CrimeDataSmall['Year']==2015)\n",
    "        Crime_Counts_in_Year= CrimeDataSmall[select_condition]['Category'].value_counts()\n",
    "        percentofallinyear=sum(Crime_Counts_in_Year)*(1.0)/len(CrimeDataSmall[CrimeDataSmall['Year']==2015])\n",
    "        Row_of_data.append(percentofallinyear)\n",
    "        for k in ListofCrimes:\n",
    "            if k in Crime_Counts_in_Year.index:\n",
    "                Row_of_data.append((Crime_Counts_in_Year[k]*(1.0)/sum(Crime_Counts_in_Year)))\n",
    "            else: #if there was no crime of this type in that year and district append 0\n",
    "                Row_of_data.append(0)\n",
    "        #Row_of_data.append(BusinessChange['Change'].values[0])  \n",
    "        #business_data.append(BusinessChange['Change'].values[0])\n",
    "        frame_data.append(Row_of_data)\n",
    "    #m=m+1\n",
    "CombinedData_2015=pd.DataFrame(columns=['zipcode', 'year','percent of all in year'] +list(ListofCrimes))\n",
    "for i in range(len(frame_data)):\n",
    "        CombinedData_2015.loc[i]=(frame_data[i])\n",
    "        \n",
    "        \n",
    "#Remove means for same district across years\n",
    "#Need this CombinedData before \".apply\"\n",
    "meansData= OriginalCombinedData.groupby(['zipcode']).mean()\n",
    "\n",
    "\n",
    "def removeMean(row):\n",
    "    for i in range(len(row)-2):\n",
    "        mean=meansData[meansData.index==row[0]].values[0][i+1]\n",
    "        row[i+2]=row[i+2]-mean\n",
    "    return row\n",
    "\n",
    "\n",
    "Newie=CombinedData_2015.apply(removeMean,axis=1)\n",
    "\n",
    "\n",
    "\n",
    "#dummies\n",
    "m=0\n",
    "datas=[]\n",
    "numYears = 12 #there is data from 12 years\n",
    "for i in ZipNames:\n",
    "    #BusinessZip = BusinessChangePerYearZip[BusinessChangePerYearZip['Zipcode']== i]\n",
    "    #for j in range(numYears):\n",
    "    Row=[0]*m+[1]+[0]*(len(ZipNames)-m-1)\n",
    "    #BusinessChange = BusinessZip[BusinessZip['Year']==2015]\n",
    "    #Row.append(BusinessChange['Change'].values[0])\n",
    "    #Row.append(BusinessChange['Open'].values[0])\n",
    "    #Row.append(BusinessChange['Closed'].values[0])\n",
    "    datas.append(Row)\n",
    "    m=m+1\n",
    "dummies=pd.DataFrame(columns=list(ZipNames))\n",
    "for i in range(len(datas)):\n",
    "        dummies.loc[i]=(datas[i])\n",
    "        \n",
    "#Change in businesses\n",
    "\n",
    "#for i in Zi\n",
    "        \n",
    "#Create train data\n",
    "data_2015=pd.concat([Newie.ix[:,2:],dummies],axis=1)\n",
    "\n",
    "\n",
    "X_train = fs.transform(data_2015)\n",
    "X_2015=scaler.transform(X_train)\n",
    "result  = l.predict(X_2015)"
   ]
  },
  {
   "cell_type": "code",
   "execution_count": 21,
   "metadata": {
    "collapsed": false
   },
   "outputs": [
    {
     "data": {
      "text/plain": [
       "array([1, 0, 0, 1, 0, 1, 0, 0, 0, 0, 0, 0, 0, 0, 0, 0, 0, 0, 0, 0, 0, 0, 0,\n",
       "       0])"
      ]
     },
     "execution_count": 21,
     "metadata": {},
     "output_type": "execute_result"
    }
   ],
   "source": [
    "result"
   ]
  },
  {
   "cell_type": "code",
   "execution_count": null,
   "metadata": {
    "collapsed": true
   },
   "outputs": [],
   "source": [
    "predicted_2016 = pd.DataFrame({'Zipcode': ZipNames, 'BM': result})\n",
    "predicted_2016.to_csv('2016_predict.csv')"
   ]
  },
  {
   "cell_type": "code",
   "execution_count": 24,
   "metadata": {
    "collapsed": true
   },
   "outputs": [],
   "source": [
    "#create small csv files for visualizations. The files are later read from in the deployed version to make vizualizations\n",
    "mean_yearly_change = ByZipcodeYearlyBack.groupby(['Year']).mean()\n",
    "mean_yearly_change = mean_yearly_change.reset_index()\n",
    "mean_yearly_change = mean_yearly_change[['Year', 'Value']]\n",
    "mean_yearly_change.columns = ['Year', 'mean']\n",
    "ByZipcodeYearlyBack2 = ByZipcodeYearlyBack.merge(mean_yearly_change, 'left', ['Year'])\n",
    "ByZipcodeYearlyBack2['Beat Market'] = ByZipcodeYearlyBack2['mean'] < ByZipcodeYearlyBack2['Value']\n",
    "ByZipcodeYearlyBack2['Beat Market Numeric'] = ByZipcodeYearlyBack2['Beat Market'].apply(lambda x: int(x == True))"
   ]
  },
  {
   "cell_type": "code",
   "execution_count": 25,
   "metadata": {
    "collapsed": false
   },
   "outputs": [
    {
     "data": {
      "text/html": [
       "<div>\n",
       "<table border=\"1\" class=\"dataframe\">\n",
       "  <thead>\n",
       "    <tr style=\"text-align: right;\">\n",
       "      <th></th>\n",
       "      <th>Zipcode</th>\n",
       "      <th>Year</th>\n",
       "      <th>Value</th>\n",
       "      <th>mean</th>\n",
       "      <th>Beat Market</th>\n",
       "      <th>Beat Market Numeric</th>\n",
       "    </tr>\n",
       "  </thead>\n",
       "  <tbody>\n",
       "    <tr>\n",
       "      <th>0</th>\n",
       "      <td>94102</td>\n",
       "      <td>2005</td>\n",
       "      <td>105.0</td>\n",
       "      <td>66.666667</td>\n",
       "      <td>True</td>\n",
       "      <td>1</td>\n",
       "    </tr>\n",
       "    <tr>\n",
       "      <th>1</th>\n",
       "      <td>94103</td>\n",
       "      <td>2005</td>\n",
       "      <td>86.0</td>\n",
       "      <td>66.666667</td>\n",
       "      <td>True</td>\n",
       "      <td>1</td>\n",
       "    </tr>\n",
       "    <tr>\n",
       "      <th>2</th>\n",
       "      <td>94105</td>\n",
       "      <td>2005</td>\n",
       "      <td>25.0</td>\n",
       "      <td>66.666667</td>\n",
       "      <td>False</td>\n",
       "      <td>0</td>\n",
       "    </tr>\n",
       "    <tr>\n",
       "      <th>3</th>\n",
       "      <td>94107</td>\n",
       "      <td>2005</td>\n",
       "      <td>80.0</td>\n",
       "      <td>66.666667</td>\n",
       "      <td>True</td>\n",
       "      <td>1</td>\n",
       "    </tr>\n",
       "    <tr>\n",
       "      <th>4</th>\n",
       "      <td>94108</td>\n",
       "      <td>2005</td>\n",
       "      <td>-5.0</td>\n",
       "      <td>66.666667</td>\n",
       "      <td>False</td>\n",
       "      <td>0</td>\n",
       "    </tr>\n",
       "  </tbody>\n",
       "</table>\n",
       "</div>"
      ],
      "text/plain": [
       "   Zipcode  Year  Value       mean Beat Market  Beat Market Numeric\n",
       "0    94102  2005  105.0  66.666667        True                    1\n",
       "1    94103  2005   86.0  66.666667        True                    1\n",
       "2    94105  2005   25.0  66.666667       False                    0\n",
       "3    94107  2005   80.0  66.666667        True                    1\n",
       "4    94108  2005   -5.0  66.666667       False                    0"
      ]
     },
     "execution_count": 25,
     "metadata": {},
     "output_type": "execute_result"
    }
   ],
   "source": [
    "ByZipcodeYearlyBack2.head()"
   ]
  },
  {
   "cell_type": "code",
   "execution_count": 26,
   "metadata": {
    "collapsed": true
   },
   "outputs": [],
   "source": [
    "#create a dictionary of BeatMarket by zipcode and year from ByZipcodeYearlyBack2\n",
    "zipcode_year_dict = {}\n",
    "for index, row in ByZipcodeYearlyBack2.iterrows():\n",
    "    _year = row['Year']\n",
    "    _zipcode = row['Zipcode']\n",
    "    _beat = row['Beat Market Numeric']\n",
    "    if _year in zipcode_year_dict.keys():\n",
    "        zipcode_year_dict[_year][_zipcode] =_beat\n",
    "    else:\n",
    "        zipcode_year_dict[_year] = {_zipcode : _beat}\n",
    "\n",
    "#make color dict\n",
    "color_dict = {}\n",
    "for year in zipcode_year_dict.keys():\n",
    "    color_dict[year] = {}\n",
    "    for zipcode in zipcode_year_dict[year].keys():\n",
    "        #print zipcode_year_dict[year][zipcode]\n",
    "        if zipcode_year_dict[year][zipcode]==1:\n",
    "            #red is this color, e.g. beat market\n",
    "             color_dict[year][zipcode] = '#008000'\n",
    "        else:\n",
    "             color_dict[year][zipcode] = '#ff0000' \n",
    "  \n",
    "    "
   ]
  },
  {
   "cell_type": "code",
   "execution_count": null,
   "metadata": {
    "collapsed": true
   },
   "outputs": [],
   "source": [
    "with open('Colors.txt', 'w') as outfile:\n",
    "    json.dump(color_dict, outfile)"
   ]
  },
  {
   "cell_type": "code",
   "execution_count": 27,
   "metadata": {
    "collapsed": false
   },
   "outputs": [
    {
     "data": {
      "text/plain": [
       "[2016, 2005, 2006, 2007, 2008, 2009, 2010, 2011, 2012, 2013, 2014, 2015]"
      ]
     },
     "execution_count": 27,
     "metadata": {},
     "output_type": "execute_result"
    }
   ],
   "source": [
    "zipcode_year_dict.keys()"
   ]
  },
  {
   "cell_type": "code",
   "execution_count": null,
   "metadata": {
    "collapsed": true
   },
   "outputs": [],
   "source": [
    "CrimeDataByYearPerZipcode = CrimeDataSmall.groupby(['Year', 'zipcode'])['zipcode'].agg(['count'])\n",
    "CrimeYearZipcode = CrimeDataByYearPerZipcode.reset_index()\n",
    "CrimeYearCount = CrimeYearZipcode.groupby(['Year'])['count'].agg(['sum'])\n",
    "CrimeYearCount = CrimeYearCount.reset_index()\n",
    "CrimeYearZipcode = CrimeYearZipcode.merge(CrimeYearCount, 'left', ['Year'])\n",
    "CrimeYearZipcode['% in Zipcode'] = CrimeYearZipcode['count']*(1.0)/CrimeYearZipcode['sum']\n",
    "CrimeYearZipcode.columns = ['Year', 'Zipcode', 'count', 'sum', 'percentage']\n",
    "PriceChange = ByZipcodeYearlyBack2\n",
    "PriceChange.merge(CrimeYearZipcode, 'left', ['Zipcode', 'Year'])\n",
    "PriceChange.to_csv('useful.csv')"
   ]
  }
 ],
 "metadata": {
  "kernelspec": {
   "display_name": "Python 2",
   "language": "python",
   "name": "python2"
  }
 },
 "nbformat": 4,
 "nbformat_minor": 0
}
